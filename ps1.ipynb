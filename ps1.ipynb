{
 "cells": [
  {
   "cell_type": "code",
   "execution_count": 1,
   "id": "097b04d8-8b38-46bf-8083-08ffab3de91c",
   "metadata": {},
   "outputs": [],
   "source": [
    "from pymol import cmd\n",
    "import pandas as pd\n",
    "data_path='/Users/vadim/Downloads/'"
   ]
  },
  {
   "cell_type": "code",
   "execution_count": 2,
   "id": "fe057886-ddd7-4909-bb33-e5a457714b52",
   "metadata": {},
   "outputs": [],
   "source": [
    "for i in range(1,10):\n",
    "    cif=data_path+'ps1_app99_'+str(i)+'/fold_ps1_app99_'+str(i)+'_model_0.cif'\n",
    "    cmd.load(cif,'p'+str(i))\n",
    "for i in range(1,6):\n",
    "    cif=data_path+'l166p_app_'+str(i)+'/fold_l166p_app_'+str(i)+'_model_0.cif'\n",
    "    cmd.load(cif,'l'+str(i))\n",
    "for i in range(1,6):\n",
    "    cif=data_path+'t147i_app_'+str(i)+'/fold_t147i_app_'+str(i)+'_model_0.cif'\n",
    "    cmd.load(cif,'t'+str(i))    "
   ]
  },
  {
   "cell_type": "code",
   "execution_count": 30,
   "id": "2389ad98-9eb2-4d0c-b1f2-3f46ec84850b",
   "metadata": {},
   "outputs": [
    {
     "name": "stdout",
     "output_type": "stream",
     "text": [
      "7.731403827667236\n",
      "7.279000759124756\n",
      "7.933742523193359\n",
      "6.332137107849121\n",
      "8.531140327453613\n",
      "7.121382236480713\n",
      "6.2188310623168945\n",
      "8.349660873413086\n",
      "6.319968223571777\n"
     ]
    }
   ],
   "source": [
    "p1='380'\n",
    "p2='/B/B/51'\n",
    "for i in range(1,10):\n",
    "    print(cmd.get_distance('(/p'+str(i)+'///'+p1+'/cg)','(/p'+str(i)+p2+'/cg)'))"
   ]
  },
  {
   "cell_type": "code",
   "execution_count": 5,
   "id": "9f5ce48d-d1ce-4a03-a2e9-186bf9003dc8",
   "metadata": {},
   "outputs": [
    {
     "name": "stdout",
     "output_type": "stream",
     "text": [
      "13.999722480773926\n",
      "12.081210136413574\n",
      "9.8900146484375\n"
     ]
    }
   ],
   "source": [
    "for i in range(1,4):\n",
    "    print(cmd.get_distance('(/l'+str(i)+'///'+p1+'/cg)','(/l'+str(i)+p2+'/cg)'))"
   ]
  },
  {
   "cell_type": "code",
   "execution_count": 6,
   "id": "5cde5a1f-6e55-4d4c-8842-6db1fd40c5b2",
   "metadata": {},
   "outputs": [
    {
     "name": "stdout",
     "output_type": "stream",
     "text": [
      "11.978097915649414\n",
      "12.17377758026123\n",
      "11.858484268188477\n"
     ]
    }
   ],
   "source": [
    "for i in range(1,4):\n",
    "    print(cmd.get_distance('(/t'+str(i)+'///'+p1+'/cg)','(/t'+str(i)+p2+'/cg)'))"
   ]
  },
  {
   "cell_type": "code",
   "execution_count": 7,
   "id": "ad9dea1e-f780-43ce-b0e4-8287eb458603",
   "metadata": {},
   "outputs": [],
   "source": [
    "for i in range(1,4):\n",
    "    cif=data_path+'ps1_ab49_'+str(i)+'/fold_ps1_ab49_'+str(i)+'_model_0.cif'\n",
    "    cmd.load(cif,'ab49'+str(i))"
   ]
  },
  {
   "cell_type": "code",
   "execution_count": 9,
   "id": "7b0e2c38-c448-445d-a472-1800befc270a",
   "metadata": {},
   "outputs": [],
   "source": [
    "for i in range(1,4):\n",
    "    cif=data_path+'l166p_ab49_'+str(i)+'/fold_l166p_ab49_'+str(i)+'_model_0.cif'\n",
    "    cmd.load(cif,'l49'+str(i))"
   ]
  },
  {
   "cell_type": "code",
   "execution_count": 10,
   "id": "f96a6c39-f537-46ca-9ca9-b5086709976b",
   "metadata": {},
   "outputs": [],
   "source": [
    "for i in range(1,4):\n",
    "    cif=data_path+'t147i_ab49_'+str(i)+'/fold_t147i_ab49_'+str(i)+'_model_0.cif'\n",
    "    cmd.load(cif,'t49'+str(i))"
   ]
  },
  {
   "cell_type": "code",
   "execution_count": 16,
   "id": "b2db2d21-4e9d-454b-886c-2dcbf4166c64",
   "metadata": {},
   "outputs": [],
   "source": [
    "for i in range(1,4):\n",
    "    cif=data_path+'p117l_ab49_'+str(i)+'/fold_p117l_ab49_'+str(i)+'_model_0.cif'\n",
    "    cmd.load(cif,'p49'+str(i))"
   ]
  },
  {
   "cell_type": "code",
   "execution_count": 34,
   "id": "f763350c-f560-4f00-9af6-581afac79afe",
   "metadata": {},
   "outputs": [],
   "source": [
    "p1='385'\n",
    "p2='257'\n",
    "p3='/B/B/38'"
   ]
  },
  {
   "cell_type": "code",
   "execution_count": 44,
   "id": "bb0341e2-157d-4501-8ee2-d0b271a0c288",
   "metadata": {},
   "outputs": [
    {
     "name": "stdout",
     "output_type": "stream",
     "text": [
      "6.4292893409729 7.9164886474609375 12.032889366149902\n",
      "6.857463836669922 10.525520324707031 12.828554153442383\n",
      "6.552450656890869 8.076505661010742 12.555126190185547\n"
     ]
    }
   ],
   "source": [
    "for i in range(1,4):\n",
    "    print(cmd.get_distance('(/ab49'+str(i)+'///'+p1+'/cg)','(/ab49'+str(i)+'///'+p2+'/cg)')\n",
    "          , cmd.get_distance('(/ab49'+str(i)+'///'+p1+'/ca)','(/ab49'+str(i)+p3+'/ca)')\n",
    "                    , cmd.get_distance('(/ab49'+str(i)+'///'+p2+'/ca)','(/ab49'+str(i)+p3+'/ca)'))"
   ]
  },
  {
   "cell_type": "code",
   "execution_count": 46,
   "id": "850825ce-a33e-4c51-9469-7b9dbc9b0874",
   "metadata": {},
   "outputs": [
    {
     "name": "stdout",
     "output_type": "stream",
     "text": [
      "7.0577392578125 15.815251350402832 17.38865089416504\n",
      "7.328744888305664 17.376300811767578 19.237966537475586\n",
      "7.235167980194092 15.885283470153809 17.847557067871094\n"
     ]
    }
   ],
   "source": [
    "for i in range(1,4):\n",
    "    print(cmd.get_distance('(/l49'+str(i)+'///'+p1+'/cg)','(/l49'+str(i)+'///'+p2+'/cg)'),\n",
    "         cmd.get_distance('(/l49'+str(i)+'///'+p1+'/ca)','(/l49'+str(i)+p3+'/ca)'),\n",
    "             cmd.get_distance('(/l49'+str(i)+'///'+p2+'/ca)','(/l49'+str(i)+p3+'/ca)'))"
   ]
  },
  {
   "cell_type": "code",
   "execution_count": 47,
   "id": "2fe6d359-8b33-427d-8bc1-c56d4dcf574a",
   "metadata": {},
   "outputs": [
    {
     "name": "stdout",
     "output_type": "stream",
     "text": [
      "6.653105735778809 14.982331275939941 18.520906448364258\n",
      "6.578368186950684 7.178028583526611 11.068840026855469\n",
      "6.7888712882995605 10.439801216125488 11.801063537597656\n"
     ]
    }
   ],
   "source": [
    "for i in range(1,4):\n",
    "    print(cmd.get_distance('(/t49'+str(i)+'///'+p1+'/cg)','(/t49'+str(i)+'///'+p2+'/cg)'),\n",
    "         cmd.get_distance('(/t49'+str(i)+'///'+p1+'/ca)','(/t49'+str(i)+p3+'/ca)'),\n",
    "         cmd.get_distance('(/t49'+str(i)+'///'+p2+'/ca)','(/t49'+str(i)+p3+'/ca)'))          "
   ]
  },
  {
   "cell_type": "code",
   "execution_count": 48,
   "id": "b737e42a-d969-41b8-85f4-f578a4a9c2ca",
   "metadata": {},
   "outputs": [
    {
     "name": "stdout",
     "output_type": "stream",
     "text": [
      "6.588113307952881 8.289939880371094 12.2919340133667\n",
      "6.582887649536133 5.189463138580322 8.663000106811523\n",
      "6.939037322998047 10.122633934020996 13.047816276550293\n"
     ]
    }
   ],
   "source": [
    "for i in range(1,4):\n",
    "    print(cmd.get_distance('(/p49'+str(i)+'///'+p1+'/cg)','(/p49'+str(i)+'///'+p2+'/cg)'),\n",
    "         cmd.get_distance('(/p49'+str(i)+'///'+p1+'/ca)','(/p49'+str(i)+p3+'/ca)'),\n",
    "         cmd.get_distance('(/p49'+str(i)+'///'+p2+'/ca)','(/p49'+str(i)+p3+'/ca)'))          "
   ]
  },
  {
   "cell_type": "code",
   "execution_count": null,
   "id": "e7dd120b-e1bd-4268-aafa-47958a996ad0",
   "metadata": {},
   "outputs": [],
   "source": []
  }
 ],
 "metadata": {
  "kernelspec": {
   "display_name": "pv",
   "language": "python",
   "name": "pv"
  },
  "language_info": {
   "codemirror_mode": {
    "name": "ipython",
    "version": 3
   },
   "file_extension": ".py",
   "mimetype": "text/x-python",
   "name": "python",
   "nbconvert_exporter": "python",
   "pygments_lexer": "ipython3",
   "version": "3.10.16"
  }
 },
 "nbformat": 4,
 "nbformat_minor": 5
}
