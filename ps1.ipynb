{
 "cells": [
  {
   "cell_type": "code",
   "execution_count": 1,
   "id": "097b04d8-8b38-46bf-8083-08ffab3de91c",
   "metadata": {},
   "outputs": [],
   "source": [
    "from pymol import cmd\n",
    "import pandas as pd\n",
    "import numpy as np\n",
    "data_path='/Users/vadim/Downloads/'\n",
    "ps1='380'\n",
    "ps2='381'\n",
    "ap1='/B/B/51'\n",
    "for i in range(1,10):\n",
    "    cif=data_path+'ps1_app99_'+str(i)+'/fold_ps1_app99_'+str(i)+'_model_0.cif'\n",
    "    cmd.load(cif,'app'+str(i))\n",
    "for i in range(1,6):\n",
    "    cif=data_path+'l166p_app_'+str(i)+'/fold_l166p_app_'+str(i)+'_model_0.cif'\n",
    "    cmd.load(cif,'l166'+str(i))\n",
    "for i in range(1,6):\n",
    "    cif=data_path+'t147i_app_'+str(i)+'/fold_t147i_app_'+str(i)+'_model_0.cif'\n",
    "    cmd.load(cif,'t147'+str(i))    \n",
    "for i in range(1,6):\n",
    "    cif=data_path+'p117l_app_'+str(i)+'/fold_p117l_app_'+str(i)+'_model_0.cif'\n",
    "    cmd.load(cif,'p117'+str(i))    \n",
    "for i in range(1,4):\n",
    "    cif=data_path+'r351_app99_'+str(i)+'/fold_r351_app99_'+str(i)+'_model_0.cif'\n",
    "    cmd.load(cif,'r35'+str(i));\n",
    "for i in range(1,4):\n",
    "    cif=data_path+'e280a_app_'+str(i)+'/fold_e280a_app_'+str(i)+'_model_0.cif'\n",
    "    cmd.load(cif,'e280'+str(i));        "
   ]
  },
  {
   "cell_type": "code",
   "execution_count": 2,
   "id": "3bcc1acf-a3c6-4685-a929-d054c46b0921",
   "metadata": {},
   "outputs": [],
   "source": [
    "muts=['app','l166','t147','p117','e280','r35']\n",
    "sim=[]\n",
    "for cif in muts:\n",
    "    dis=[]\n",
    "    for i in range(1,6):\n",
    "        try:\n",
    "            dis1=cmd.get_distance('(/'+cif+str(i)+'///'+ps1+'/cg)','(/'+cif+str(i)+ap1+'/cg)')\n",
    "            dis2=cmd.get_distance('(/'+cif+str(i)+'///'+ps2+'/cg)','(/'+cif+str(i)+ap1+'/cg)')\n",
    "            dis.append(round(dis1,2))\n",
    "            dis.append(round(dis2,2))\n",
    "        except: continue\n",
    "    sim.append(dis)"
   ]
  },
  {
   "cell_type": "code",
   "execution_count": 3,
   "id": "9809aa3b-e467-42ec-a0c2-17bb3fc27453",
   "metadata": {},
   "outputs": [
    {
     "data": {
      "text/plain": [
       "      s\n",
       "app   1     7.560000\n",
       "      2     6.760000\n",
       "l166  1    10.336000\n",
       "      2     9.028000\n",
       "t147  1    12.262000\n",
       "      2    10.794000\n",
       "p117  1    11.202000\n",
       "      2    11.130000\n",
       "e280  1     9.770000\n",
       "      2     8.673333\n",
       "r35   1     8.183333\n",
       "      2     8.460000\n",
       "dtype: float64"
      ]
     },
     "execution_count": 3,
     "metadata": {},
     "output_type": "execute_result"
    }
   ],
   "source": [
    "df=pd.DataFrame(sim).T\n",
    "df.columns=muts\n",
    "df['s']=[1,2]*5\n",
    "df.index=[i for i in range(1, 6) for _ in (0, 1)]\n",
    "df=df.pivot(columns='s',values=muts)\n",
    "df.mean()    "
   ]
  },
  {
   "cell_type": "code",
   "execution_count": 47,
   "id": "324d0af3-3d20-4697-934a-362154f5ae81",
   "metadata": {},
   "outputs": [],
   "source": []
  },
  {
   "cell_type": "code",
   "execution_count": 50,
   "id": "098d41cd-81c0-4d80-b97c-252bdb7acb5a",
   "metadata": {},
   "outputs": [
    {
     "name": "stdout",
     "output_type": "stream",
     "text": [
      "[10.64, 10.17, 8.5] 9.77\n"
     ]
    }
   ],
   "source": [
    "    cif='e280'\n",
    "    l=[]\n",
    "    for i in range(1,4):\n",
    "        dis=cmd.get_distance('(/'+cif+str(i)+'///'+ps1+'/cg)','(/'+cif+str(i)+ap1+'/cg)')\n",
    "        l.append(round(dis,2))\n",
    "    print(l,round(np.mean(l),2))"
   ]
  },
  {
   "cell_type": "code",
   "execution_count": null,
   "id": "27af0d53-0885-44ef-ad38-472fc9112e6d",
   "metadata": {},
   "outputs": [],
   "source": []
  }
 ],
 "metadata": {
  "kernelspec": {
   "display_name": "pv",
   "language": "python",
   "name": "pv"
  },
  "language_info": {
   "codemirror_mode": {
    "name": "ipython",
    "version": 3
   },
   "file_extension": ".py",
   "mimetype": "text/x-python",
   "name": "python",
   "nbconvert_exporter": "python",
   "pygments_lexer": "ipython3",
   "version": "3.10.16"
  }
 },
 "nbformat": 4,
 "nbformat_minor": 5
}
