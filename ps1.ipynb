{
 "cells": [
  {
   "cell_type": "code",
   "execution_count": 1,
   "id": "097b04d8-8b38-46bf-8083-08ffab3de91c",
   "metadata": {},
   "outputs": [],
   "source": [
    "from pymol import cmd\n",
    "import pandas as pd\n",
    "data_path='/Users/vadim/Downloads/'"
   ]
  },
  {
   "cell_type": "code",
   "execution_count": 2,
   "id": "fe057886-ddd7-4909-bb33-e5a457714b52",
   "metadata": {},
   "outputs": [],
   "source": [
    "for i in range(1,10):\n",
    "    cif=data_path+'ps1_app99_'+str(i)+'/fold_ps1_app99_'+str(i)+'_model_0.cif'\n",
    "    cmd.load(cif,'p'+str(i))\n",
    "for i in range(1,6):\n",
    "    cif=data_path+'l166p_app_'+str(i)+'/fold_l166p_app_'+str(i)+'_model_0.cif'\n",
    "    cmd.load(cif,'l'+str(i))\n",
    "for i in range(1,6):\n",
    "    cif=data_path+'t147i_app_'+str(i)+'/fold_t147i_app_'+str(i)+'_model_0.cif'\n",
    "    cmd.load(cif,'t'+str(i))    "
   ]
  },
  {
   "cell_type": "code",
   "execution_count": 6,
   "id": "2389ad98-9eb2-4d0c-b1f2-3f46ec84850b",
   "metadata": {},
   "outputs": [
    {
     "name": "stdout",
     "output_type": "stream",
     "text": [
      "6.06978178024292\n",
      "4.737723350524902\n",
      "5.30444860458374\n",
      "5.1783952713012695\n",
      "6.219512939453125\n",
      "4.843372344970703\n",
      "5.12160587310791\n",
      "6.165132999420166\n",
      "5.38746452331543\n"
     ]
    }
   ],
   "source": [
    "p1='380'\n",
    "p2='/B/B/51'\n",
    "for i in range(1,10):\n",
    "    print(cmd.get_distance('(/p'+str(i)+'///'+p1+'/ca)','(/p'+str(i)+p2+'/ca)'))"
   ]
  },
  {
   "cell_type": "code",
   "execution_count": 7,
   "id": "9f5ce48d-d1ce-4a03-a2e9-186bf9003dc8",
   "metadata": {},
   "outputs": [
    {
     "name": "stdout",
     "output_type": "stream",
     "text": [
      "11.307628631591797\n",
      "9.562630653381348\n",
      "8.32269287109375\n"
     ]
    }
   ],
   "source": [
    "for i in range(1,4):\n",
    "    print(cmd.get_distance('(/l'+str(i)+'///'+p1+'/ca)','(/l'+str(i)+p2+'/ca)'))"
   ]
  },
  {
   "cell_type": "code",
   "execution_count": 8,
   "id": "5cde5a1f-6e55-4d4c-8842-6db1fd40c5b2",
   "metadata": {},
   "outputs": [
    {
     "name": "stdout",
     "output_type": "stream",
     "text": [
      "9.48444938659668\n",
      "9.908509254455566\n",
      "9.988375663757324\n"
     ]
    }
   ],
   "source": [
    "for i in range(1,4):\n",
    "    print(cmd.get_distance('(/t'+str(i)+'///'+p1+'/ca)','(/t'+str(i)+p2+'/ca)'))"
   ]
  },
  {
   "cell_type": "code",
   "execution_count": 11,
   "id": "ad9dea1e-f780-43ce-b0e4-8287eb458603",
   "metadata": {},
   "outputs": [],
   "source": [
    "for i in range(1,4):\n",
    "    cif=data_path+'ps1_ab49_'+str(i)+'/fold_ps1_ab49_'+str(i)+'_model_0.cif'\n",
    "    cmd.load(cif,'ab49'+str(i))"
   ]
  },
  {
   "cell_type": "code",
   "execution_count": 12,
   "id": "5447a5e8-c1e6-4cea-aaee-80457eb3062c",
   "metadata": {},
   "outputs": [],
   "source": [
    "for i in range(1,4):\n",
    "    cif=data_path+'ps1_ab48_'+str(i)+'/fold_ps1_ab48_'+str(i)+'_model_0.cif'\n",
    "    cmd.load(cif,'ab48'+str(i))"
   ]
  },
  {
   "cell_type": "code",
   "execution_count": null,
   "id": "7b0e2c38-c448-445d-a472-1800befc270a",
   "metadata": {},
   "outputs": [],
   "source": [
    "for i in range(1,3):\n",
    "    cif=data_path+'l166p_ab49_'+str(i)+'/fold_l166p_ab49_'+str(i)+'_model_0.cif'\n",
    "    cmd.load(cif,'l49'+str(i))"
   ]
  },
  {
   "cell_type": "code",
   "execution_count": 48,
   "id": "f96a6c39-f537-46ca-9ca9-b5086709976b",
   "metadata": {},
   "outputs": [],
   "source": [
    "for i in range(1,3):\n",
    "    cif=data_path+'t147i_ab49_'+str(i)+'/fold_t147i_ab49_'+str(i)+'_model_0.cif'\n",
    "    cmd.load(cif,'t49'+str(i))"
   ]
  },
  {
   "cell_type": "code",
   "execution_count": 67,
   "id": "f763350c-f560-4f00-9af6-581afac79afe",
   "metadata": {},
   "outputs": [],
   "source": [
    "p1='385'\n",
    "p2='257'\n",
    "p3='/B/B/37'"
   ]
  },
  {
   "cell_type": "code",
   "execution_count": 76,
   "id": "bb0341e2-157d-4501-8ee2-d0b271a0c288",
   "metadata": {},
   "outputs": [
    {
     "name": "stdout",
     "output_type": "stream",
     "text": [
      "10.078882217407227 9.04173469543457\n",
      "10.451244354248047 6.747802734375\n",
      "10.172624588012695 8.371329307556152\n"
     ]
    }
   ],
   "source": [
    "for i in range(1,4):\n",
    "    print(cmd.get_distance('(/ab49'+str(i)+'///'+p1+'/ca)','(/ab49'+str(i)+'///'+p2+'/ca)')\n",
    "          , cmd.get_distance('(/ab49'+str(i)+'///'+p1+'/ca)','(/ab49'+str(i)+p3+'/ca)'))"
   ]
  },
  {
   "cell_type": "code",
   "execution_count": 77,
   "id": "561a0464-e241-4a77-b316-8666da853149",
   "metadata": {},
   "outputs": [
    {
     "name": "stdout",
     "output_type": "stream",
     "text": [
      "10.261558532714844 8.03211784362793\n",
      "10.5872163772583 8.829575538635254\n",
      "10.448223114013672 7.588324069976807\n"
     ]
    }
   ],
   "source": [
    "for i in range(1,4):\n",
    "    print(cmd.get_distance('(/ab48'+str(i)+'///'+p1+'/ca)','(/ab48'+str(i)+'///'+p2+'/ca)')\n",
    "          , cmd.get_distance('(/ab48'+str(i)+'///'+p1+'/ca)','(/ab48'+str(i)+p3+'/ca)'))"
   ]
  },
  {
   "cell_type": "code",
   "execution_count": 78,
   "id": "850825ce-a33e-4c51-9469-7b9dbc9b0874",
   "metadata": {},
   "outputs": [
    {
     "name": "stdout",
     "output_type": "stream",
     "text": [
      "28.762819290161133 30.744003295898438\n",
      "20.42902374267578 13.829825401306152\n"
     ]
    }
   ],
   "source": [
    "for i in range(1,3):\n",
    "    print(cmd.get_distance('(/l49'+str(i)+'///'+p1+'/ca)','(/ab49'+str(i)+'///'+p2+'/ca)'),\n",
    "         cmd.get_distance('(/l49'+str(i)+'///'+p1+'/ca)','(/ab49'+str(i)+p3+'/ca)'))"
   ]
  },
  {
   "cell_type": "code",
   "execution_count": 79,
   "id": "2fe6d359-8b33-427d-8bc1-c56d4dcf574a",
   "metadata": {},
   "outputs": [
    {
     "name": "stdout",
     "output_type": "stream",
     "text": [
      "17.473066329956055 15.029863357543945\n",
      "18.495195388793945 8.516273498535156\n"
     ]
    }
   ],
   "source": [
    "for i in range(1,3):\n",
    "    print(cmd.get_distance('(/t49'+str(i)+'///'+p1+'/ca)','(/ab49'+str(i)+'///'+p2+'/ca)'),\n",
    "         cmd.get_distance('(/t49'+str(i)+'///'+p1+'/ca)','(/ab49'+str(i)+p3+'/ca)'))"
   ]
  },
  {
   "cell_type": "code",
   "execution_count": null,
   "id": "e0f67ea7-327d-4238-be5c-a68e29f6d358",
   "metadata": {},
   "outputs": [],
   "source": []
  }
 ],
 "metadata": {
  "kernelspec": {
   "display_name": "pv",
   "language": "python",
   "name": "pv"
  },
  "language_info": {
   "codemirror_mode": {
    "name": "ipython",
    "version": 3
   },
   "file_extension": ".py",
   "mimetype": "text/x-python",
   "name": "python",
   "nbconvert_exporter": "python",
   "pygments_lexer": "ipython3",
   "version": "3.10.16"
  }
 },
 "nbformat": 4,
 "nbformat_minor": 5
}
