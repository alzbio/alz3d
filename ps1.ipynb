{
 "cells": [
  {
   "cell_type": "code",
   "execution_count": 1,
   "id": "097b04d8-8b38-46bf-8083-08ffab3de91c",
   "metadata": {},
   "outputs": [],
   "source": [
    "from pymol import cmd\n",
    "import pandas as pd\n",
    "data_path='/Users/vadim/Downloads/'"
   ]
  },
  {
   "cell_type": "code",
   "execution_count": 11,
   "id": "fe057886-ddd7-4909-bb33-e5a457714b52",
   "metadata": {},
   "outputs": [],
   "source": [
    "for i in range(2,10):\n",
    "    cif=data_path+'ps1_app99_'+str(i)+'/fold_ps1_app99_'+str(i)+'_model_0.cif'\n",
    "    cmd.load(cif,'p'+str(i))\n",
    "for i in range(1,4):\n",
    "    cif=data_path+'l166p_app_'+str(i)+'/fold_l166p_app_'+str(i)+'_model_0.cif'\n",
    "    cmd.load(cif,'l'+str(i))\n",
    "for i in range(1,4):\n",
    "    cif=data_path+'t147i_app_'+str(i)+'/fold_t147i_app_'+str(i)+'_model_0.cif'\n",
    "    cmd.load(cif,'t'+str(i))    "
   ]
  },
  {
   "cell_type": "code",
   "execution_count": 141,
   "id": "2389ad98-9eb2-4d0c-b1f2-3f46ec84850b",
   "metadata": {},
   "outputs": [
    {
     "name": "stdout",
     "output_type": "stream",
     "text": [
      "6.06978178024292\n",
      "4.737723350524902\n",
      "5.30444860458374\n",
      "5.1783952713012695\n",
      "6.219512939453125\n",
      "4.843372344970703\n",
      "5.12160587310791\n",
      "6.165132999420166\n",
      "5.38746452331543\n"
     ]
    }
   ],
   "source": [
    "p1='380'\n",
    "p2='/B/B/51'\n",
    "for i in range(1,10):\n",
    "    print(cmd.get_distance('(/p'+str(i)+'///'+p1+'/ca)','(/p'+str(i)+p2+'/ca)'))"
   ]
  },
  {
   "cell_type": "code",
   "execution_count": 142,
   "id": "9f5ce48d-d1ce-4a03-a2e9-186bf9003dc8",
   "metadata": {},
   "outputs": [
    {
     "name": "stdout",
     "output_type": "stream",
     "text": [
      "11.307628631591797\n",
      "9.562630653381348\n",
      "8.32269287109375\n"
     ]
    }
   ],
   "source": [
    "for i in range(1,4):\n",
    "    print(cmd.get_distance('(/l'+str(i)+'///'+p1+'/ca)','(/l'+str(i)+p2+'/ca)'))"
   ]
  },
  {
   "cell_type": "code",
   "execution_count": 143,
   "id": "5cde5a1f-6e55-4d4c-8842-6db1fd40c5b2",
   "metadata": {},
   "outputs": [
    {
     "name": "stdout",
     "output_type": "stream",
     "text": [
      "9.48444938659668\n",
      "9.908509254455566\n",
      "9.988375663757324\n"
     ]
    }
   ],
   "source": [
    "for i in range(1,4):\n",
    "    print(cmd.get_distance('(/t'+str(i)+'///'+p1+'/ca)','(/t'+str(i)+p2+'/ca)'))"
   ]
  },
  {
   "cell_type": "code",
   "execution_count": null,
   "id": "ad9dea1e-f780-43ce-b0e4-8287eb458603",
   "metadata": {},
   "outputs": [],
   "source": []
  }
 ],
 "metadata": {
  "kernelspec": {
   "display_name": "pv",
   "language": "python",
   "name": "pv"
  },
  "language_info": {
   "codemirror_mode": {
    "name": "ipython",
    "version": 3
   },
   "file_extension": ".py",
   "mimetype": "text/x-python",
   "name": "python",
   "nbconvert_exporter": "python",
   "pygments_lexer": "ipython3",
   "version": "3.10.16"
  }
 },
 "nbformat": 4,
 "nbformat_minor": 5
}
