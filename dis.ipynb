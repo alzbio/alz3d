{
 "cells": [
  {
   "cell_type": "code",
   "execution_count": 1,
   "id": "11553d8b-d32c-4eab-be93-2fbdd963c278",
   "metadata": {},
   "outputs": [
    {
     "name": "stdout",
     "output_type": "stream",
     "text": [
      "┌──────────────────────────────────────────────────────────────────────────────┐\n",
      "│                                 PyRosetta-4                                  │\n",
      "│              Created in JHU by Sergey Lyskov and PyRosetta Team              │\n",
      "│              (C) Copyright Rosetta Commons Member Institutions               │\n",
      "│                                                                              │\n",
      "│ NOTE: USE OF PyRosetta FOR COMMERCIAL PURPOSES REQUIRE PURCHASE OF A LICENSE │\n",
      "│         See LICENSE.PyRosetta.md or email license@uw.edu for details         │\n",
      "└──────────────────────────────────────────────────────────────────────────────┘\n",
      "PyRosetta-4 2025 [Rosetta PyRosetta4.Release.python39.ubuntu 2025.06+release.029c6a159b896477003a14f78f472d4cd2cead46 2025-02-04T15:14:13] retrieved from: http://www.pyrosetta.org\n",
      "core.init: Checking for fconfig files in pwd and ./rosetta/flags\n",
      "core.init: Rosetta version: PyRosetta4.Release.python39.ubuntu r394 2025.06+release.029c6a159b 029c6a159b896477003a14f78f472d4cd2cead46 http://www.pyrosetta.org 2025-02-04T15:14:13\n",
      "core.init: Rosetta extras: []\n",
      "core.init: command: PyRosetta -ex1 -ex2aro -database /home/moqri/.conda/envs/rose/lib/python3.9/site-packages/pyrosetta/database\n",
      "basic.random.init_random_generator: 'RNG device' seed mode, using '/dev/urandom', seed=-1464429709 seed_offset=0 real_seed=-1464429709\n",
      "basic.random.init_random_generator: RandomGenerator:init: Normal mode, seed=-1464429709 RG_type=mt19937\n",
      "protocols.relax.RelaxScriptManager: Reading relax scripts list from database.\n",
      "core.scoring.ScoreFunctionFactory: SCOREFUNCTION: ref2015\n",
      "core.scoring.etable: Starting energy table calculation\n",
      "core.scoring.etable: smooth_etable: changing atr/rep split to bottom of energy well\n",
      "core.scoring.etable: smooth_etable: spline smoothing lj etables (maxdis = 6)\n",
      "core.scoring.etable: smooth_etable: spline smoothing solvation etables (max_dis = 6)\n",
      "core.scoring.etable: Finished calculating energy tables.\n",
      "basic.io.database: Database file opened: scoring/score_functions/hbonds/ref2015_params/HBPoly1D.csv\n",
      "basic.io.database: Database file opened: scoring/score_functions/hbonds/ref2015_params/HBFadeIntervals.csv\n",
      "basic.io.database: Database file opened: scoring/score_functions/hbonds/ref2015_params/HBEval.csv\n",
      "basic.io.database: Database file opened: scoring/score_functions/hbonds/ref2015_params/DonStrength.csv\n",
      "basic.io.database: Database file opened: scoring/score_functions/hbonds/ref2015_params/AccStrength.csv\n",
      "core.chemical.GlobalResidueTypeSet: Finished initializing fa_standard residue type set.  Created 985 residue types\n",
      "core.chemical.GlobalResidueTypeSet: Total time to initialize 0.928973 seconds.\n",
      "basic.io.database: Database file opened: scoring/score_functions/rama/fd/all.ramaProb\n",
      "basic.io.database: Database file opened: scoring/score_functions/rama/fd/prepro.ramaProb\n",
      "basic.io.database: Database file opened: scoring/score_functions/omega/omega_ppdep.all.txt\n",
      "basic.io.database: Database file opened: scoring/score_functions/omega/omega_ppdep.gly.txt\n",
      "basic.io.database: Database file opened: scoring/score_functions/omega/omega_ppdep.pro.txt\n",
      "basic.io.database: Database file opened: scoring/score_functions/omega/omega_ppdep.valile.txt\n",
      "basic.io.database: Database file opened: scoring/score_functions/P_AA_pp/P_AA\n",
      "basic.io.database: Database file opened: scoring/score_functions/P_AA_pp/P_AA_n\n",
      "core.scoring.P_AA: shapovalov_lib::shap_p_aa_pp_smooth_level of 1( aka low_smooth ) got activated.\n",
      "basic.io.database: Database file opened: scoring/score_functions/P_AA_pp/shapovalov/10deg/kappa131/a20.prop\n",
      "protocols.relax.RelaxScriptManager: Looking for MonomerRelax2019.txt\n",
      "protocols.relax.RelaxScriptManager: ================== Reading script file: /home/moqri/.conda/envs/rose/lib/python3.9/site-packages/pyrosetta/database/sampling/relax_scripts/MonomerRelax2019.txt ==================\n",
      "protocols.relax.RelaxScriptManager: repeat %%nrepeats%%\n",
      "protocols.relax.RelaxScriptManager: coord_cst_weight 1.0\n",
      "protocols.relax.RelaxScriptManager: scale:fa_rep 0.040\n",
      "protocols.relax.RelaxScriptManager: repack\n",
      "protocols.relax.RelaxScriptManager: scale:fa_rep 0.051\n",
      "protocols.relax.RelaxScriptManager: min 0.01\n",
      "protocols.relax.RelaxScriptManager: coord_cst_weight 0.5\n",
      "protocols.relax.RelaxScriptManager: scale:fa_rep 0.265\n",
      "protocols.relax.RelaxScriptManager: repack\n",
      "protocols.relax.RelaxScriptManager: scale:fa_rep 0.280\n",
      "protocols.relax.RelaxScriptManager: min 0.01\n",
      "protocols.relax.RelaxScriptManager: coord_cst_weight 0.0\n",
      "protocols.relax.RelaxScriptManager: scale:fa_rep 0.559\n",
      "protocols.relax.RelaxScriptManager: repack\n",
      "protocols.relax.RelaxScriptManager: scale:fa_rep 0.581\n",
      "protocols.relax.RelaxScriptManager: min 0.01\n",
      "protocols.relax.RelaxScriptManager: coord_cst_weight 0.0\n",
      "protocols.relax.RelaxScriptManager: scale:fa_rep 1\n",
      "protocols.relax.RelaxScriptManager: repack\n",
      "protocols.relax.RelaxScriptManager: min 0.00001\n",
      "protocols.relax.RelaxScriptManager: accept_to_best\n",
      "protocols.relax.RelaxScriptManager: endrepeat\n",
      "core.scoring.ScoreFunctionFactory: SCOREFUNCTION: ref2015\n",
      "core.import_pose.import_pose: File 'pdb/s24.pdb' automatically determined to be of type PDB\n",
      "core.conformation.Conformation: [ WARNING ] missing heavyatom:  OXT on residue LYS:CtermProteinFull 25\n",
      "core.conformation.Conformation: [ WARNING ] missing heavyatom:  CG  on residue TYR:NtermProteinFull 26\n",
      "core.conformation.Conformation: [ WARNING ] missing heavyatom:  CD1 on residue TYR:NtermProteinFull 26\n",
      "core.conformation.Conformation: [ WARNING ] missing heavyatom:  CD2 on residue TYR:NtermProteinFull 26\n",
      "core.conformation.Conformation: [ WARNING ] missing heavyatom:  CE1 on residue TYR:NtermProteinFull 26\n",
      "core.conformation.Conformation: [ WARNING ] missing heavyatom:  CE2 on residue TYR:NtermProteinFull 26\n",
      "core.conformation.Conformation: [ WARNING ] missing heavyatom:  CZ  on residue TYR:NtermProteinFull 26\n",
      "core.conformation.Conformation: [ WARNING ] missing heavyatom:  OH  on residue TYR:NtermProteinFull 26\n",
      "core.conformation.Conformation: [ WARNING ] missing heavyatom:  OXT on residue ILE:CtermProteinFull 331\n",
      "core.pack.pack_missing_sidechains: packing residue number 26 because of missing atom number 6 atom name  CG\n",
      "core.pack.task: Packer task: initialize from command line()\n",
      "core.scoring.ScoreFunctionFactory: SCOREFUNCTION: ref2015\n",
      "basic.io.database: Database file opened: scoring/score_functions/elec_cp_reps.dat\n",
      "core.scoring.elec.util: Read 40 countpair representative atoms\n",
      "core.pack.dunbrack.RotamerLibrary: shapovalov_lib_fixes_enable option is true.\n",
      "core.pack.dunbrack.RotamerLibrary: shapovalov_lib::shap_dun10_smooth_level of 1( aka lowest_smooth ) got activated.\n",
      "core.pack.dunbrack.RotamerLibrary: Binary rotamer library selected: /home/moqri/.conda/envs/rose/lib/python3.9/site-packages/pyrosetta/database/rotamer/shapovalov/StpDwn_0-0-0/Dunbrack10.lib.bin\n",
      "core.pack.dunbrack.RotamerLibrary: Using Dunbrack library binary file '/home/moqri/.conda/envs/rose/lib/python3.9/site-packages/pyrosetta/database/rotamer/shapovalov/StpDwn_0-0-0/Dunbrack10.lib.bin'.\n",
      "core.pack.dunbrack.RotamerLibrary: Dunbrack 2010 library took 0.097546 seconds to load from binary\n",
      "core.pack.pack_rotamers: built 6 rotamers at 1 positions.\n",
      "core.pack.interaction_graph.interaction_graph_factory: Instantiating DensePDInteractionGraph\n"
     ]
    }
   ],
   "source": [
    "import numpy as np\n",
    "from pyrosetta import *\n",
    "from pyrosetta.toolbox import cleanATOM\n",
    "from pyrosetta import PyMOLMover\n",
    "init()\n",
    "fr=rosetta.protocols.relax.FastRelax()\n",
    "scorefxn = get_score_function()\n",
    "fr.set_scorefxn(scorefxn)\n",
    "wt=pose_from_pdb(\"pdb/s24.pdb\")\n",
    "#fr.max_iter(100)\n",
    "def dist(wt):\n",
    "    p257=wt.pdb_info().pdb2pose('B', 257)\n",
    "    p385=wt.pdb_info().pdb2pose('B', 385)\n",
    "    a49=wt.pdb_info().pdb2pose('E', 49)\n",
    "    dis1=wt.residue(p257).atom(2).xyz()-wt.residue(a49).atom(2).xyz()\n",
    "    dis2=wt.residue(p385).atom(2).xyz()-wt.residue(a49).atom(2).xyz()\n",
    "    dis3=wt.residue(p257).atom(2).xyz()-wt.residue(p385).atom(2).xyz()\n",
    "    s=(np.round(dis1.length(),2),\n",
    "    np.round(dis2.length(),2),\n",
    "    np.round(dis3.length(),2))\n",
    "    print(s)\n",
    "    return s"
   ]
  },
  {
   "cell_type": "code",
   "execution_count": 2,
   "id": "34503a54-fcce-49f4-9f2c-ca957edfdc3b",
   "metadata": {},
   "outputs": [
    {
     "name": "stdout",
     "output_type": "stream",
     "text": [
      "core.import_pose.import_pose: File 'pdb/wt.pdb' automatically determined to be of type PDB\n"
     ]
    }
   ],
   "source": [
    "wt=pose_from_pdb(\"pdb/wt.pdb\")"
   ]
  },
  {
   "cell_type": "code",
   "execution_count": 3,
   "id": "005bb70e-af4d-4a45-bf2e-ca0f103e4a51",
   "metadata": {},
   "outputs": [
    {
     "data": {
      "text/plain": [
       "305"
      ]
     },
     "execution_count": 3,
     "metadata": {},
     "output_type": "execute_result"
    }
   ],
   "source": [
    "hh=wt.get_hbonds()\n",
    "hh.nhbonds()"
   ]
  },
  {
   "cell_type": "code",
   "execution_count": 134,
   "id": "34bb7483-374e-44ca-85da-425b4d7656c6",
   "metadata": {},
   "outputs": [],
   "source": [
    "#hh.show(wt)"
   ]
  },
  {
   "cell_type": "code",
   "execution_count": 126,
   "id": "aba41c2d-5682-42a9-b8ac-4965ca75cb55",
   "metadata": {},
   "outputs": [
    {
     "name": "stdout",
     "output_type": "stream",
     "text": [
      "2.72\n"
     ]
    }
   ],
   "source": [
    "    p=wt.pdb_info().pdb2pose('B', 115)\n",
    "    a=wt.pdb_info().pdb2pose('E', 40)\n",
    "    dis1=wt.residue(p).atom(12).xyz()-wt.residue(a).atom(4).xyz()\n",
    "    s=np.round(dis1.length(),2)\n",
    "    print(s)"
   ]
  },
  {
   "cell_type": "code",
   "execution_count": 9,
   "id": "981f88ae-a331-4fb9-89ad-7a18ebb1498b",
   "metadata": {},
   "outputs": [
    {
     "name": "stdout",
     "output_type": "stream",
     "text": [
      "1.85\n"
     ]
    }
   ],
   "source": [
    "    p=wt.pdb_info().pdb2pose('B', 385)\n",
    "    a=wt.pdb_info().pdb2pose('E', 49)\n",
    "    dis1=wt.residue(p).atom(13).xyz()-wt.residue(a).atom(4).xyz()\n",
    "    s=np.round(dis1.length(),2)\n",
    "    print(s)"
   ]
  },
  {
   "cell_type": "code",
   "execution_count": 19,
   "id": "d0693b97-c5f1-4976-b38c-dc74a29a160b",
   "metadata": {},
   "outputs": [
    {
     "name": "stdout",
     "output_type": "stream",
     "text": [
      "2.04\n"
     ]
    }
   ],
   "source": [
    "    p=wt.pdb_info().pdb2pose('B', 382)\n",
    "    a=wt.pdb_info().pdb2pose('E', 50)\n",
    "    dis1=wt.residue(p).atom(5).xyz()-wt.residue(a).atom(4).xyz()\n",
    "    s=np.round(dis1.length(),2)\n",
    "    print(s)"
   ]
  },
  {
   "cell_type": "code",
   "execution_count": 6,
   "id": "523cb75e-a523-4003-83ff-2d304d3d168d",
   "metadata": {},
   "outputs": [
    {
     "name": "stdout",
     "output_type": "stream",
     "text": [
      "  Atom 1:  N  \n",
      "  Atom 2:  CA \n",
      "  Atom 3:  C  \n",
      "  Atom 4:  O  \n",
      "  Atom 5:  H  \n",
      "  Atom 6: 1HA \n",
      "  Atom 7: 2HA \n"
     ]
    }
   ],
   "source": [
    "res=wt.residue(p)\n",
    "num_atoms=res.natoms() \n",
    "for i in range(1, num_atoms + 1):\n",
    "    atom_name = res.atom_name(i)\n",
    "    print(f\"  Atom {i}: {atom_name}\")"
   ]
  },
  {
   "cell_type": "code",
   "execution_count": 7,
   "id": "7b3c6c3c-2dd3-46f8-93cc-ae54e7b2f3b0",
   "metadata": {},
   "outputs": [
    {
     "name": "stdout",
     "output_type": "stream",
     "text": [
      "  Atom 1:  N  \n",
      "  Atom 2:  CA \n",
      "  Atom 3:  C  \n",
      "  Atom 4:  O  \n",
      "  Atom 5:  CB \n",
      "  Atom 6:  CG1\n",
      "  Atom 7:  CG2\n",
      "  Atom 8:  H  \n",
      "  Atom 9:  HA \n",
      "  Atom 10:  HB \n",
      "  Atom 11: 1HG1\n",
      "  Atom 12: 2HG1\n",
      "  Atom 13: 3HG1\n",
      "  Atom 14: 1HG2\n",
      "  Atom 15: 2HG2\n",
      "  Atom 16: 3HG2\n"
     ]
    }
   ],
   "source": [
    "res=wt.residue(a)\n",
    "num_atoms=res.natoms() \n",
    "for i in range(1, num_atoms + 1):\n",
    "    atom_name = res.atom_name(i)\n",
    "    print(f\"  Atom {i}: {atom_name}\")"
   ]
  },
  {
   "cell_type": "code",
   "execution_count": 20,
   "id": "54f70e4c-5a43-400d-912c-75d6c2f6468e",
   "metadata": {},
   "outputs": [
    {
     "name": "stdout",
     "output_type": "stream",
     "text": [
      "core.import_pose.import_pose: File 'pdb/A99A.pdb' automatically determined to be of type PDB\n",
      "2.15\n",
      "core.import_pose.import_pose: File 'pdb/I143T.pdb' automatically determined to be of type PDB\n",
      "2.04\n",
      "core.import_pose.import_pose: File 'pdb/S169L.pdb' automatically determined to be of type PDB\n",
      "2.09\n",
      "core.import_pose.import_pose: File 'pdb/E280A.pdb' automatically determined to be of type PDB\n",
      "2.04\n",
      "core.import_pose.import_pose: File 'pdb/L166P.pdb' automatically determined to be of type PDB\n",
      "2.03\n",
      "core.import_pose.import_pose: File 'pdb/V94M.pdb' automatically determined to be of type PDB\n",
      "2.04\n",
      "core.import_pose.import_pose: File 'pdb/P117L.pdb' automatically determined to be of type PDB\n",
      "2.04\n",
      "core.import_pose.import_pose: File 'pdb/T147I.pdb' automatically determined to be of type PDB\n",
      "2.11\n",
      "core.import_pose.import_pose: File 'pdb/R278I.pdb' automatically determined to be of type PDB\n",
      "2.05\n",
      "core.import_pose.import_pose: File 'pdb/G384A.pdb' automatically determined to be of type PDB\n",
      "2.13\n",
      "core.import_pose.import_pose: File 'pdb/I439V.pdb' automatically determined to be of type PDB\n",
      "2.02\n"
     ]
    }
   ],
   "source": [
    "ms=['A99A','I143T','S169L','E280A','L166P','V94M','P117L','T147I','R278I','G384A','I439V']\n",
    "for m in ms:\n",
    "    pose=pose_from_pdb('pdb/'+m+'.pdb')\n",
    "    dis1=pose.residue(p).atom(5).xyz()-pose.residue(a).atom(4).xyz()\n",
    "    s=np.round(dis1.length(),2)\n",
    "    print(s)"
   ]
  },
  {
   "cell_type": "code",
   "execution_count": null,
   "id": "146de3c5-237b-4478-933b-900322a34e0a",
   "metadata": {},
   "outputs": [],
   "source": []
  }
 ],
 "metadata": {
  "kernelspec": {
   "display_name": "rose",
   "language": "python",
   "name": "rose"
  },
  "language_info": {
   "codemirror_mode": {
    "name": "ipython",
    "version": 3
   },
   "file_extension": ".py",
   "mimetype": "text/x-python",
   "name": "python",
   "nbconvert_exporter": "python",
   "pygments_lexer": "ipython3",
   "version": "3.9.21"
  }
 },
 "nbformat": 4,
 "nbformat_minor": 5
}
