{
 "cells": [
  {
   "cell_type": "code",
   "execution_count": 1,
   "id": "097b04d8-8b38-46bf-8083-08ffab3de91c",
   "metadata": {},
   "outputs": [],
   "source": [
    "from pymol import cmd\n",
    "import pandas as pd\n",
    "import numpy as np\n",
    "import seaborn as sns\n",
    "data_path='/Users/vadim/Downloads/'\n",
    "ps1='380'\n",
    "ps2='381'\n",
    "ap1='/B/B/51'\n",
    "for i in range(1,10):\n",
    "    cif=data_path+'ps1_app99_'+str(i)+'/fold_ps1_app99_'+str(i)+'_model_0.cif'\n",
    "    cmd.load(cif,'app'+str(i))\n",
    "for i in range(1,6):\n",
    "    cif=data_path+'l166p_app_'+str(i)+'/fold_l166p_app_'+str(i)+'_model_0.cif'\n",
    "    cmd.load(cif,'l166'+str(i))\n",
    "for i in range(1,6):\n",
    "    cif=data_path+'t147i_app_'+str(i)+'/fold_t147i_app_'+str(i)+'_model_0.cif'\n",
    "    cmd.load(cif,'t147'+str(i))    \n",
    "for i in range(1,6):\n",
    "    cif=data_path+'p117l_app_'+str(i)+'/fold_p117l_app_'+str(i)+'_model_0.cif'\n",
    "    cmd.load(cif,'p117'+str(i))    \n",
    "for i in range(1,4):\n",
    "    cif=data_path+'r351_app99_'+str(i)+'/fold_r351_app99_'+str(i)+'_model_0.cif'\n",
    "    cmd.load(cif,'r35'+str(i));\n",
    "for i in range(1,4):\n",
    "    cif=data_path+'e280a_app_'+str(i)+'/fold_e280a_app_'+str(i)+'_model_0.cif'\n",
    "    cmd.load(cif,'e280'+str(i));        "
   ]
  },
  {
   "cell_type": "code",
   "execution_count": 18,
   "id": "3bcc1acf-a3c6-4685-a929-d054c46b0921",
   "metadata": {},
   "outputs": [],
   "source": [
    "muts=['l166','t147','p117','e280','r35','app']\n",
    "sim=[]\n",
    "for cif in muts:\n",
    "    dis=[]\n",
    "    for i in range(1,6):\n",
    "        try:\n",
    "            dis1=cmd.get_distance('(/'+cif+str(i)+'///'+ps1+'/cg)','(/'+cif+str(i)+ap1+'/cg)')\n",
    "            dis2=cmd.get_distance('(/'+cif+str(i)+'///'+ps2+'/cg)','(/'+cif+str(i)+ap1+'/cg)')\n",
    "            dis.append(round(dis1,2))\n",
    "            dis.append(round(dis2,2))\n",
    "        except: continue\n",
    "    sim.append(dis)"
   ]
  },
  {
   "cell_type": "code",
   "execution_count": 19,
   "id": "9809aa3b-e467-42ec-a0c2-17bb3fc27453",
   "metadata": {},
   "outputs": [],
   "source": [
    "df=pd.DataFrame(sim).T\n",
    "df.columns=muts\n",
    "df['s']=[1,2]*5\n",
    "df.index=[i for i in range(1, 6) for _ in (0, 1)]\n",
    "df=df.pivot(columns='s',values=muts)\n",
    "dg=pd.DataFrame(df.mean()).unstack()"
   ]
  },
  {
   "cell_type": "code",
   "execution_count": 20,
   "id": "fae9ca55-503f-4968-b42c-c3898c051e8d",
   "metadata": {},
   "outputs": [],
   "source": [
    "dg.columns=['x','y']"
   ]
  },
  {
   "cell_type": "code",
   "execution_count": 22,
   "id": "b85f7fdc-e791-4f8a-9f68-cce797629230",
   "metadata": {},
   "outputs": [
    {
     "data": {
      "text/plain": [
       "<Axes: >"
      ]
     },
     "execution_count": 22,
     "metadata": {},
     "output_type": "execute_result"
    },
    {
     "data": {
      "image/png": "[encoded data removed]",
      "text/plain": [
       "<Figure size 640x480 with 1 Axes>"
      ]
     },
     "metadata": {},
     "output_type": "display_data"
    }
   ],
   "source": [
    "sns.scatterplot(data=dg.loc[muts])"
   ]
  },
  {
   "cell_type": "code",
   "execution_count": null,
   "id": "1de62368-29ff-403a-be5b-b5876c3211d6",
   "metadata": {},
   "outputs": [],
   "source": []
  }
 ],
 "metadata": {
  "kernelspec": {
   "display_name": "pv",
   "language": "python",
   "name": "pv"
  },
  "language_info": {
   "codemirror_mode": {
    "name": "ipython",
    "version": 3
   },
   "file_extension": ".py",
   "mimetype": "text/x-python",
   "name": "python",
   "nbconvert_exporter": "python",
   "pygments_lexer": "ipython3",
   "version": "3.10.16"
  }
 },
 "nbformat": 4,
 "nbformat_minor": 5
}
